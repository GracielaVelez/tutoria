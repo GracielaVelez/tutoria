{
  "nbformat": 4,
  "nbformat_minor": 0,
  "metadata": {
    "colab": {
      "provenance": [],
      "authorship_tag": "ABX9TyOuRuKLAbeNVrR/Tt5mmnAl",
      "include_colab_link": true
    },
    "kernelspec": {
      "name": "python3",
      "display_name": "Python 3"
    },
    "language_info": {
      "name": "python"
    }
  },
  "cells": [
    {
      "cell_type": "markdown",
      "metadata": {
        "id": "view-in-github",
        "colab_type": "text"
      },
      "source": [
        "<a href=\"https://colab.research.google.com/github/GracielaVelez/tutoria/blob/main/numpy.ipynb\" target=\"_parent\"><img src=\"https://colab.research.google.com/assets/colab-badge.svg\" alt=\"Open In Colab\"/></a>"
      ]
    },
    {
      "cell_type": "markdown",
      "source": [
        "**GRACIELA GUADALUPE VELEZ ZAMBRABO**"
      ],
      "metadata": {
        "id": "PAucLhJ_QxuV"
      }
    },
    {
      "cell_type": "markdown",
      "source": [
        "1. Import numpy as np and see the version"
      ],
      "metadata": {
        "id": "7SxZD-YpSQTs"
      }
    },
    {
      "cell_type": "code",
      "source": [
        "import numpy as np"
      ],
      "metadata": {
        "id": "qzdkRISnSV8e"
      },
      "execution_count": 1,
      "outputs": []
    },
    {
      "cell_type": "markdown",
      "source": [
        "2. Create a 1D array of numbers from 0 to 9"
      ],
      "metadata": {
        "id": "Y7_Q-C-gSgH4"
      }
    },
    {
      "cell_type": "code",
      "source": [
        "A = np.arange(10)\n",
        "A"
      ],
      "metadata": {
        "colab": {
          "base_uri": "https://localhost:8080/"
        },
        "id": "OM2A1nnGSo8l",
        "outputId": "f944e71b-b56a-4fe5-fc43-02ea06fb922f"
      },
      "execution_count": 2,
      "outputs": [
        {
          "output_type": "execute_result",
          "data": {
            "text/plain": [
              "array([0, 1, 2, 3, 4, 5, 6, 7, 8, 9])"
            ]
          },
          "metadata": {},
          "execution_count": 2
        }
      ]
    },
    {
      "cell_type": "code",
      "source": [
        "np.array([5, 7, 8, 3])"
      ],
      "metadata": {
        "colab": {
          "base_uri": "https://localhost:8080/"
        },
        "id": "AWwkhkC7TIu-",
        "outputId": "6e4e2c98-a2b5-46dd-f44f-50d6c16d8475"
      },
      "execution_count": 3,
      "outputs": [
        {
          "output_type": "execute_result",
          "data": {
            "text/plain": [
              "array([5, 7, 8, 3])"
            ]
          },
          "metadata": {},
          "execution_count": 3
        }
      ]
    },
    {
      "cell_type": "markdown",
      "source": [
        "3. Create a 3×3 numpy array of all True’s"
      ],
      "metadata": {
        "id": "gGmt95FFTtkI"
      }
    },
    {
      "cell_type": "code",
      "source": [
        "B=np.array([[2, 6, 9], [7, 7, 6],[6, 9, 2]])\n",
        "print(B)"
      ],
      "metadata": {
        "colab": {
          "base_uri": "https://localhost:8080/"
        },
        "id": "M8omkwkiTy_g",
        "outputId": "be73b454-72c2-44ce-d39d-187d7413ac50"
      },
      "execution_count": 4,
      "outputs": [
        {
          "output_type": "stream",
          "name": "stdout",
          "text": [
            "[[2 6 9]\n",
            " [7 7 6]\n",
            " [6 9 2]]\n"
          ]
        }
      ]
    },
    {
      "cell_type": "markdown",
      "source": [
        "4. Extract all odd numbers from arr"
      ],
      "metadata": {
        "id": "CmHzphxQT8S6"
      }
    },
    {
      "cell_type": "code",
      "source": [
        "B[B % 2 !=0]\n"
      ],
      "metadata": {
        "colab": {
          "base_uri": "https://localhost:8080/"
        },
        "id": "ausI2dPAT_Wc",
        "outputId": "c7775bc1-37f1-4ad6-a05c-a6ce5486155e"
      },
      "execution_count": 5,
      "outputs": [
        {
          "output_type": "execute_result",
          "data": {
            "text/plain": [
              "array([9, 7, 7, 9])"
            ]
          },
          "metadata": {},
          "execution_count": 5
        }
      ]
    },
    {
      "cell_type": "code",
      "source": [
        "B[B % 2==0]"
      ],
      "metadata": {
        "colab": {
          "base_uri": "https://localhost:8080/"
        },
        "id": "ZK0KeIDlUPuU",
        "outputId": "024cf16c-00c6-4f11-b519-42b1436480af"
      },
      "execution_count": 6,
      "outputs": [
        {
          "output_type": "execute_result",
          "data": {
            "text/plain": [
              "array([2, 6, 6, 6, 2])"
            ]
          },
          "metadata": {},
          "execution_count": 6
        }
      ]
    },
    {
      "cell_type": "markdown",
      "source": [
        "5. Replace all odd numbers in arr with -1"
      ],
      "metadata": {
        "id": "GHJt4DYLUSZ-"
      }
    },
    {
      "cell_type": "code",
      "source": [
        "B[B % 2 !=0]=10\n",
        "print(B)"
      ],
      "metadata": {
        "colab": {
          "base_uri": "https://localhost:8080/"
        },
        "id": "aZJTnUvjCCur",
        "outputId": "33962bb4-3217-4c62-f424-62879802d3a0"
      },
      "execution_count": 8,
      "outputs": [
        {
          "output_type": "stream",
          "name": "stdout",
          "text": [
            "[[ 2  6 10]\n",
            " [10 10  6]\n",
            " [ 6 10  2]]\n"
          ]
        }
      ]
    },
    {
      "cell_type": "markdown",
      "source": [
        "6. Convert a 1D array to a 2D array with 2 rows"
      ],
      "metadata": {
        "id": "uAFvPeKuVRLv"
      }
    },
    {
      "cell_type": "code",
      "source": [
        "A2 = A.reshape(2,5)\n",
        "A2"
      ],
      "metadata": {
        "id": "HweJrgMlVYBN",
        "colab": {
          "base_uri": "https://localhost:8080/"
        },
        "outputId": "b7f1fbf4-525f-4d69-8b15-b0f36fded0ac"
      },
      "execution_count": 9,
      "outputs": [
        {
          "output_type": "execute_result",
          "data": {
            "text/plain": [
              "array([[0, 1, 2, 3, 4],\n",
              "       [5, 6, 7, 8, 9]])"
            ]
          },
          "metadata": {},
          "execution_count": 9
        }
      ]
    },
    {
      "cell_type": "markdown",
      "source": [
        "### 7. Stack arrays a and b vertically"
      ],
      "metadata": {
        "id": "JHfTUJ5RCxOw"
      }
    },
    {
      "cell_type": "code",
      "source": [
        "a=np.random.randint(low=4,high=18,size=(3,3))\n",
        "b=np.random.randint(low=1,high=8,size=(3,3))\n",
        "a"
      ],
      "metadata": {
        "colab": {
          "base_uri": "https://localhost:8080/"
        },
        "id": "3PickkeRDD5H",
        "outputId": "6a4b6786-c366-46a6-fd71-1f9ab09661fb"
      },
      "execution_count": 22,
      "outputs": [
        {
          "output_type": "execute_result",
          "data": {
            "text/plain": [
              "array([[ 8, 13, 15],\n",
              "       [17,  8, 10],\n",
              "       [ 7,  9, 12]])"
            ]
          },
          "metadata": {},
          "execution_count": 22
        }
      ]
    },
    {
      "cell_type": "code",
      "source": [
        "b"
      ],
      "metadata": {
        "colab": {
          "base_uri": "https://localhost:8080/"
        },
        "id": "7upQOLWGD9wW",
        "outputId": "8d6f50ca-e47f-459d-8ed0-4a1215805199"
      },
      "execution_count": 13,
      "outputs": [
        {
          "output_type": "execute_result",
          "data": {
            "text/plain": [
              "array([[1, 2, 6],\n",
              "       [7, 3, 7],\n",
              "       [6, 2, 2]])"
            ]
          },
          "metadata": {},
          "execution_count": 13
        }
      ]
    },
    {
      "cell_type": "code",
      "source": [
        "apilar=np.vstack((a,b)) #vertical\n",
        "print(apilar)"
      ],
      "metadata": {
        "colab": {
          "base_uri": "https://localhost:8080/"
        },
        "id": "fB3dKSgcEBy6",
        "outputId": "0df15fef-9ea7-4593-90b9-5564a5a285d0"
      },
      "execution_count": 23,
      "outputs": [
        {
          "output_type": "stream",
          "name": "stdout",
          "text": [
            "[[ 8 13 15]\n",
            " [17  8 10]\n",
            " [ 7  9 12]\n",
            " [ 2  5  4]\n",
            " [ 6  7  5]\n",
            " [ 5  7  4]]\n"
          ]
        }
      ]
    },
    {
      "cell_type": "markdown",
      "source": [
        "8. Stack the arrays a and b horizontally."
      ],
      "metadata": {
        "id": "-l_xUlWLEjLD"
      }
    },
    {
      "cell_type": "code",
      "source": [
        "apilar=np.hstack((a,b)) #horizontal\n",
        "print(apilar)"
      ],
      "metadata": {
        "colab": {
          "base_uri": "https://localhost:8080/"
        },
        "id": "_gaKAkO5ErUs",
        "outputId": "b2de7629-6a25-439e-f2f8-e7d77e204dcc"
      },
      "execution_count": 24,
      "outputs": [
        {
          "output_type": "stream",
          "name": "stdout",
          "text": [
            "[[ 8 13 15  2  5  4]\n",
            " [17  8 10  6  7  5]\n",
            " [ 7  9 12  5  7  4]]\n"
          ]
        }
      ]
    },
    {
      "cell_type": "markdown",
      "source": [
        "9. Get all items between 5 and 10 from a."
      ],
      "metadata": {
        "id": "HtmvqoTlFP8V"
      }
    },
    {
      "cell_type": "code",
      "source": [
        "a"
      ],
      "metadata": {
        "colab": {
          "base_uri": "https://localhost:8080/"
        },
        "id": "kiyg9f9nGhJD",
        "outputId": "66002882-efdb-4072-ee27-570e97ecbad7"
      },
      "execution_count": 25,
      "outputs": [
        {
          "output_type": "execute_result",
          "data": {
            "text/plain": [
              "array([[ 8, 13, 15],\n",
              "       [17,  8, 10],\n",
              "       [ 7,  9, 12]])"
            ]
          },
          "metadata": {},
          "execution_count": 25
        }
      ]
    },
    {
      "cell_type": "code",
      "source": [
        "filter=((a>5)&(a<10) )\n",
        "print(a[filter])"
      ],
      "metadata": {
        "colab": {
          "base_uri": "https://localhost:8080/"
        },
        "id": "UbX6Kl_5GV8s",
        "outputId": "78956667-17ba-48fb-aa86-2e758c38e080"
      },
      "execution_count": 29,
      "outputs": [
        {
          "output_type": "stream",
          "name": "stdout",
          "text": [
            "[8 8 7 9]\n"
          ]
        }
      ]
    },
    {
      "cell_type": "markdown",
      "source": [
        "10. How to make a python function that handles scalars to work on numpy arrays?"
      ],
      "metadata": {
        "id": "V7HbhyVJJ9Tr"
      }
    },
    {
      "cell_type": "code",
      "source": [
        "def maxx(x, y):\n",
        "  if x >= y:\n",
        "       return x\n",
        "  else:\n",
        "       return y\n",
        "a= np.array([4,6,8,8,1,7,3])\n",
        "b= np.array([6,4,4,1,6,5,3])\n",
        "\n",
        "tmp=list()\n",
        "for i in range(len(a)):\n",
        "  tmp.append(maxx(a[i],b[i]))\n",
        "print(tmp)"
      ],
      "metadata": {
        "colab": {
          "base_uri": "https://localhost:8080/"
        },
        "id": "RxPOQRCwKDTo",
        "outputId": "71239c52-c072-4fc9-ff9e-d54dc3e8e2d5"
      },
      "execution_count": 30,
      "outputs": [
        {
          "output_type": "stream",
          "name": "stdout",
          "text": [
            "[6, 6, 8, 8, 6, 7, 3]\n"
          ]
        }
      ]
    },
    {
      "cell_type": "markdown",
      "source": [
        "11. Swap columns 1 and 2 in the array arr."
      ],
      "metadata": {
        "id": "AUf_yhtqKh8j"
      }
    },
    {
      "cell_type": "code",
      "source": [
        "B1 = np.arange(9).reshape(3,3)\n",
        "print(B1)"
      ],
      "metadata": {
        "colab": {
          "base_uri": "https://localhost:8080/"
        },
        "id": "Tk6GQuV_KoLX",
        "outputId": "deed3ebc-a89f-452f-a566-7f112e8b0d68"
      },
      "execution_count": 46,
      "outputs": [
        {
          "output_type": "stream",
          "name": "stdout",
          "text": [
            "[[0 1 2]\n",
            " [3 4 5]\n",
            " [6 7 8]]\n"
          ]
        }
      ]
    },
    {
      "cell_type": "code",
      "source": [
        "# Intercambiar columnas 1 y 2\n",
        "B1[:, [1, 2]] = B1[:, [2, 1]]\n",
        "\n",
        "print(B1)"
      ],
      "metadata": {
        "colab": {
          "base_uri": "https://localhost:8080/"
        },
        "id": "xRTC6E8YPdIA",
        "outputId": "bbe52c5b-f933-4367-d520-71b6a9d73e47"
      },
      "execution_count": 47,
      "outputs": [
        {
          "output_type": "stream",
          "name": "stdout",
          "text": [
            "[[0 2 1]\n",
            " [3 5 4]\n",
            " [6 8 7]]\n"
          ]
        }
      ]
    },
    {
      "cell_type": "markdown",
      "source": [
        "#####3 12. Create a 2D array of shape 5x3 to contain random decimal numbers between 5 and 10."
      ],
      "metadata": {
        "id": "-ZHSoomjQBy9"
      }
    },
    {
      "cell_type": "code",
      "source": [
        "decimal = np.random.uniform(5, 10, (5, 3))\n",
        "\n",
        "print(decimal)"
      ],
      "metadata": {
        "colab": {
          "base_uri": "https://localhost:8080/"
        },
        "id": "i84VNhaRQKY7",
        "outputId": "90598607-3a9e-4ecb-8665-3b0bc4eede9a"
      },
      "execution_count": 48,
      "outputs": [
        {
          "output_type": "stream",
          "name": "stdout",
          "text": [
            "[[7.90045578 6.16873505 9.93383917]\n",
            " [5.45058119 6.2016992  6.45646291]\n",
            " [6.63170021 5.35021901 7.14816485]\n",
            " [8.58567477 9.51550297 6.49650762]\n",
            " [5.5371585  6.46242452 9.60319634]]\n"
          ]
        }
      ]
    }
  ]
}